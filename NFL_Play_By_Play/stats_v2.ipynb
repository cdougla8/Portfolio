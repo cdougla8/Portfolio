{
 "cells": [
  {
   "cell_type": "markdown",
   "metadata": {},
   "source": "# Predicting the Next Play\n"
  },
  {
   "cell_type": "markdown",
   "metadata": {},
   "source": "## Imports"
  },
  {
   "cell_type": "code",
   "execution_count": 26,
   "metadata": {},
   "outputs": [],
   "source": "\n# import numpy as np\n# import pandas\n# from sklearn.linear_model import LogisticRegression\n# from sklearn.discriminant_analysis import LinearDiscriminantAnalysis\n# from sklearn import model_selection\n# from sklearn.metrics import accuracy_score, roc_auc_score\n# from sklearn.neighbors import KNeighborsClassifier\n# from sklearn.preprocessing import LabelEncoder\n# from sklearn.tree import DecisionTreeClassifier\n# import xgboost\n# from sklearn import svm\n# import pandas as pd\n# from sklearn.metrics import classification_report\n# from sklearn.metrics import confusion_matrix\n# from sklearn.metrics import accuracy_score\n# from sklearn.neighbors import KNeighborsClassifier\n\n# import matplotlib.pyplot as plt\n# from matplotlib import pyplot\n# import numpy as np\n# import pandas\n# from pandas import read_csv\n# from sklearn.ensemble import GradientBoostingClassifier\n# from sklearn.metrics import precision_recall_fscore_support\n# from sklearn import preprocessing\n# from sklearn import ensemble\n# from sklearn.metrics import accuracy_score, roc_auc_score\n# from sklearn import model_selection\n# from sklearn.model_selection import StratifiedKFold\n# from sklearn.preprocessing import LabelEncoder\n# from xgboost import XGBClassifier\n# from xgboost import plot_tree\n# %matplotlib inline\n# from matplotlib.pylab import rcParams\n# import uuid\n# rcParams['figure.figsize'] = 12, 4"
  },
  {
   "cell_type": "markdown",
   "metadata": {},
   "source": "## Prepare Data"
  },
  {
   "cell_type": "code",
   "execution_count": 12,
   "metadata": {},
   "outputs": [],
   "source": "from metaflow import Flow\nimport pandas\nfrom sklearn.preprocessing import LabelEncoder\nfrom sklearn import model_selection\nimport xgboost\nfrom sklearn.metrics import accuracy_score"
  },
  {
   "cell_type": "code",
   "execution_count": 25,
   "metadata": {},
   "outputs": [
    {
     "name": "stdout",
     "output_type": "stream",
     "text": "XGBClassifier(base_score=0.5, booster='gbtree', colsample_bylevel=1,\n       colsample_bytree=1, gamma=0, learning_rate=0.1, max_delta_step=0,\n       max_depth=3, min_child_weight=1, missing=None, n_estimators=100,\n       n_jobs=1, nthread=None, objective='multi:softprob', random_state=0,\n       reg_alpha=0, reg_lambda=1, scale_pos_weight=1, seed=None,\n       silent=True, subsample=1)\nAccuracy: 26.89%\n[0.04560174 0.03494138 0.03460861 0.03942681 0.055819   0.04645329\n 0.06322464 0.05643172 0.04064441 0.03889059 0.04418807 0.04747892\n 0.01331585 0.04929242 0.03618779 0.02681576 0.05794628 0.03126573\n 0.04108445 0.         0.03862704 0.03402701 0.02713204 0.02737439\n 0.03255861 0.03666345]\n"
    }
   ],
   "source": "run = Flow('NFLStatsFlow').latest_successful_run\n\nfinal_df = run.data.baltimore_df[[\n    'game_seconds_remaining',\n    'drive_passing_yards_gained',\n    'drive_rushing_yards_gained',\n    'yardline_100',\n    'down',\n    'ydstogo',\n    'shotgun',\n    'score_differential',\n    'total_home_score',\n    'total_away_score',\n    'quarter_seconds_remaining',\n    'half_seconds_remaining',\n    'qtr',\n    'goal_to_go',\n    'no_huddle',\n    'posteam_timeouts_remaining',\n    'defteam_timeouts_remaining',\n    'drive_play_count',\n    'drive_yards_gained',\n    'previous_play_in_drive',\n    'full_play_type'\n]]\nfinal_df= pandas.get_dummies(data=final_df, columns=['previous_play_in_drive'])\nX = final_df.loc[:, final_df.columns != 'full_play_type']\nY = final_df.full_play_type\n\n\n# encode string class values as integers\nlabel_encoder = LabelEncoder()\nlabel_encoder = label_encoder.fit(Y)\nlabel_encoded_y = label_encoder.transform(Y)\n# encode string class values as integers\nlabel_encoder = LabelEncoder()\nlabel_encoder = label_encoder.fit(Y)\nlabel_encoded_y = label_encoder.transform(Y)\nseed = 7\ntest_size = 0.33\nX_train, X_test, y_train, y_test = model_selection.train_test_split(X, label_encoded_y, test_size=test_size, random_state=seed)\n# fit model no training data\nmodel = xgboost.XGBClassifier()\nmodel.fit(X_train, y_train)\nprint(model)\n# make predictions for test data\ny_pred = model.predict(X_test)\npredictions = [round(value) for value in y_pred]\n# evaluate predictions\naccuracy = accuracy_score(y_test, predictions)\nprint(\"Accuracy: %.2f%%\" % (accuracy * 100.0))\nprint(model.feature_importances_)"
  },
  {
   "cell_type": "code",
   "execution_count": null,
   "metadata": {},
   "outputs": [],
   "source": ""
  }
 ],
 "metadata": {
  "kernelspec": {
   "display_name": "Python 2",
   "language": "python",
   "name": "python2"
  },
  "language_info": {
   "codemirror_mode": {
    "name": "ipython",
    "version": 2
   },
   "file_extension": ".py",
   "mimetype": "text/x-python",
   "name": "python",
   "nbconvert_exporter": "python",
   "pygments_lexer": "ipython2",
   "version": "2.7.16"
  }
 },
 "nbformat": 4,
 "nbformat_minor": 2
}
