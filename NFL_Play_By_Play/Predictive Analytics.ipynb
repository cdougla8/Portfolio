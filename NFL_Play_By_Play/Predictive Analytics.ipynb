{
 "cells": [
  {
   "cell_type": "markdown",
   "metadata": {},
   "source": "# Predicting the Next Play\n"
  },
  {
   "cell_type": "markdown",
   "metadata": {},
   "source": "## Imports"
  },
  {
   "cell_type": "markdown",
   "metadata": {},
   "source": "## Prepare Data"
  },
  {
   "cell_type": "code",
   "execution_count": 137,
   "metadata": {},
   "outputs": [],
   "source": "from metaflow import Flow\nimport pandas\nfrom sklearn.preprocessing import LabelEncoder\nfrom sklearn import model_selection\nimport xgboost\nfrom sklearn.metrics import accuracy_score, confusion_matrix, classification_report\nfrom sklearn.tree import DecisionTreeClassifier\nfrom sklearn.ensemble import RandomForestClassifier\nfrom sklearn.neural_network import MLPClassifier\nfrom sklearn.metrics import roc_auc_score\nrun = Flow('NFLStatsFlow').latest_successful_run"
  },
  {
   "cell_type": "code",
   "execution_count": 138,
   "metadata": {},
   "outputs": [
    {
     "data": {
      "text/html": "<div>\n<style scoped>\n    .dataframe tbody tr th:only-of-type {\n        vertical-align: middle;\n    }\n\n    .dataframe tbody tr th {\n        vertical-align: top;\n    }\n\n    .dataframe thead th {\n        text-align: right;\n    }\n</style>\n<table border=\"1\" class=\"dataframe\">\n  <thead>\n    <tr style=\"text-align: right;\">\n      <th></th>\n      <th>play_id</th>\n      <th>play_id</th>\n    </tr>\n    <tr>\n      <th>full_play_type</th>\n      <th></th>\n      <th></th>\n    </tr>\n  </thead>\n  <tbody>\n    <tr>\n      <th>pass_left_deep</th>\n      <td>0.030784</td>\n      <td>33</td>\n    </tr>\n    <tr>\n      <th>pass_left_short</th>\n      <td>0.097948</td>\n      <td>105</td>\n    </tr>\n    <tr>\n      <th>pass_middle_deep</th>\n      <td>0.020522</td>\n      <td>22</td>\n    </tr>\n    <tr>\n      <th>pass_middle_short</th>\n      <td>0.165112</td>\n      <td>177</td>\n    </tr>\n    <tr>\n      <th>pass_right_deep</th>\n      <td>0.041045</td>\n      <td>44</td>\n    </tr>\n    <tr>\n      <th>pass_right_short</th>\n      <td>0.159515</td>\n      <td>171</td>\n    </tr>\n    <tr>\n      <th>run_left</th>\n      <td>0.152985</td>\n      <td>164</td>\n    </tr>\n    <tr>\n      <th>run_middle</th>\n      <td>0.109142</td>\n      <td>117</td>\n    </tr>\n    <tr>\n      <th>run_right</th>\n      <td>0.222948</td>\n      <td>239</td>\n    </tr>\n  </tbody>\n</table>\n</div>",
      "text/plain": "                    play_id  play_id\nfull_play_type                      \npass_left_deep     0.030784       33\npass_left_short    0.097948      105\npass_middle_deep   0.020522       22\npass_middle_short  0.165112      177\npass_right_deep    0.041045       44\npass_right_short   0.159515      171\nrun_left           0.152985      164\nrun_middle         0.109142      117\nrun_right          0.222948      239"
     },
     "execution_count": 138,
     "metadata": {},
     "output_type": "execute_result"
    }
   ],
   "source": "new_df = run.data.baltimore_df.groupby(['full_play_type'])['play_id'].count().to_frame()\npercentage_df = new_df.apply(lambda x: x/x.sum())\ntotals_df = pandas.concat([percentage_df, new_df], axis = 1)\ntotals_df"
  },
  {
   "cell_type": "code",
   "execution_count": 139,
   "metadata": {},
   "outputs": [
    {
     "data": {
      "text/plain": "['play_id',\n 'game_id',\n 'home_team',\n 'away_team',\n 'posteam',\n 'posteam_type',\n 'defteam',\n 'side_of_field',\n 'yardline_100',\n 'game_date',\n 'quarter_seconds_remaining',\n 'half_seconds_remaining',\n 'game_seconds_remaining',\n 'game_half',\n 'quarter_end',\n 'drive',\n 'sp',\n 'qtr',\n 'down',\n 'goal_to_go',\n 'time',\n 'yrdln',\n 'ydstogo',\n 'ydsnet',\n 'desc',\n 'play_type',\n 'yards_gained',\n 'shotgun',\n 'no_huddle',\n 'qb_dropback',\n 'qb_kneel',\n 'qb_spike',\n 'qb_scramble',\n 'pass_length',\n 'pass_location',\n 'air_yards',\n 'yards_after_catch',\n 'run_location',\n 'run_gap',\n 'field_goal_result',\n 'kick_distance',\n 'extra_point_result',\n 'two_point_conv_result',\n 'home_timeouts_remaining',\n 'away_timeouts_remaining',\n 'timeout',\n 'timeout_team',\n 'td_team',\n 'posteam_timeouts_remaining',\n 'defteam_timeouts_remaining',\n 'total_home_score',\n 'total_away_score',\n 'posteam_score',\n 'defteam_score',\n 'score_differential',\n 'posteam_score_post',\n 'defteam_score_post',\n 'score_differential_post',\n 'no_score_prob',\n 'opp_fg_prob',\n 'opp_safety_prob',\n 'opp_td_prob',\n 'fg_prob',\n 'safety_prob',\n 'td_prob',\n 'extra_point_prob',\n 'two_point_conversion_prob',\n 'ep',\n 'epa',\n 'total_home_epa',\n 'total_away_epa',\n 'total_home_rush_epa',\n 'total_away_rush_epa',\n 'total_home_pass_epa',\n 'total_away_pass_epa',\n 'air_epa',\n 'yac_epa',\n 'comp_air_epa',\n 'comp_yac_epa',\n 'total_home_comp_air_epa',\n 'total_away_comp_air_epa',\n 'total_home_comp_yac_epa',\n 'total_away_comp_yac_epa',\n 'total_home_raw_air_epa',\n 'total_away_raw_air_epa',\n 'total_home_raw_yac_epa',\n 'total_away_raw_yac_epa',\n 'wp',\n 'def_wp',\n 'home_wp',\n 'away_wp',\n 'wpa',\n 'home_wp_post',\n 'away_wp_post',\n 'total_home_rush_wpa',\n 'total_away_rush_wpa',\n 'total_home_pass_wpa',\n 'total_away_pass_wpa',\n 'air_wpa',\n 'yac_wpa',\n 'comp_air_wpa',\n 'comp_yac_wpa',\n 'total_home_comp_air_wpa',\n 'total_away_comp_air_wpa',\n 'total_home_comp_yac_wpa',\n 'total_away_comp_yac_wpa',\n 'total_home_raw_air_wpa',\n 'total_away_raw_air_wpa',\n 'total_home_raw_yac_wpa',\n 'total_away_raw_yac_wpa',\n 'punt_blocked',\n 'first_down_rush',\n 'first_down_pass',\n 'first_down_penalty',\n 'third_down_converted',\n 'third_down_failed',\n 'fourth_down_converted',\n 'fourth_down_failed',\n 'incomplete_pass',\n 'touchback',\n 'interception',\n 'punt_inside_twenty',\n 'punt_in_endzone',\n 'punt_out_of_bounds',\n 'punt_downed',\n 'punt_fair_catch',\n 'kickoff_inside_twenty',\n 'kickoff_in_endzone',\n 'kickoff_out_of_bounds',\n 'kickoff_downed',\n 'kickoff_fair_catch',\n 'fumble_forced',\n 'fumble_not_forced',\n 'fumble_out_of_bounds',\n 'solo_tackle',\n 'safety',\n 'penalty',\n 'tackled_for_loss',\n 'fumble_lost',\n 'own_kickoff_recovery',\n 'own_kickoff_recovery_td',\n 'qb_hit',\n 'rush_attempt',\n 'pass_attempt',\n 'sack',\n 'touchdown',\n 'pass_touchdown',\n 'rush_touchdown',\n 'return_touchdown',\n 'extra_point_attempt',\n 'two_point_attempt',\n 'field_goal_attempt',\n 'kickoff_attempt',\n 'punt_attempt',\n 'fumble',\n 'complete_pass',\n 'assist_tackle',\n 'lateral_reception',\n 'lateral_rush',\n 'lateral_return',\n 'lateral_recovery',\n 'passer_player_id',\n 'passer_player_name',\n 'receiver_player_id',\n 'receiver_player_name',\n 'rusher_player_id',\n 'rusher_player_name',\n 'lateral_receiver_player_id',\n 'lateral_receiver_player_name',\n 'lateral_rusher_player_id',\n 'lateral_rusher_player_name',\n 'lateral_sack_player_id',\n 'lateral_sack_player_name',\n 'interception_player_id',\n 'interception_player_name',\n 'lateral_interception_player_id',\n 'lateral_interception_player_name',\n 'punt_returner_player_id',\n 'punt_returner_player_name',\n 'lateral_punt_returner_player_id',\n 'lateral_punt_returner_player_name',\n 'kickoff_returner_player_name',\n 'kickoff_returner_player_id',\n 'lateral_kickoff_returner_player_id',\n 'lateral_kickoff_returner_player_name',\n 'punter_player_id',\n 'punter_player_name',\n 'kicker_player_name',\n 'kicker_player_id',\n 'own_kickoff_recovery_player_id',\n 'own_kickoff_recovery_player_name',\n 'blocked_player_id',\n 'blocked_player_name',\n 'tackle_for_loss_1_player_id',\n 'tackle_for_loss_1_player_name',\n 'tackle_for_loss_2_player_id',\n 'tackle_for_loss_2_player_name',\n 'qb_hit_1_player_id',\n 'qb_hit_1_player_name',\n 'qb_hit_2_player_id',\n 'qb_hit_2_player_name',\n 'forced_fumble_player_1_team',\n 'forced_fumble_player_1_player_id',\n 'forced_fumble_player_1_player_name',\n 'forced_fumble_player_2_team',\n 'forced_fumble_player_2_player_id',\n 'forced_fumble_player_2_player_name',\n 'solo_tackle_1_team',\n 'solo_tackle_2_team',\n 'solo_tackle_1_player_id',\n 'solo_tackle_2_player_id',\n 'solo_tackle_1_player_name',\n 'solo_tackle_2_player_name',\n 'assist_tackle_1_player_id',\n 'assist_tackle_1_player_name',\n 'assist_tackle_1_team',\n 'assist_tackle_2_player_id',\n 'assist_tackle_2_player_name',\n 'assist_tackle_2_team',\n 'assist_tackle_3_player_id',\n 'assist_tackle_3_player_name',\n 'assist_tackle_3_team',\n 'assist_tackle_4_player_id',\n 'assist_tackle_4_player_name',\n 'assist_tackle_4_team',\n 'pass_defense_1_player_id',\n 'pass_defense_1_player_name',\n 'pass_defense_2_player_id',\n 'pass_defense_2_player_name',\n 'fumbled_1_team',\n 'fumbled_1_player_id',\n 'fumbled_1_player_name',\n 'fumbled_2_player_id',\n 'fumbled_2_player_name',\n 'fumbled_2_team',\n 'fumble_recovery_1_team',\n 'fumble_recovery_1_yards',\n 'fumble_recovery_1_player_id',\n 'fumble_recovery_1_player_name',\n 'fumble_recovery_2_team',\n 'fumble_recovery_2_yards',\n 'fumble_recovery_2_player_id',\n 'fumble_recovery_2_player_name',\n 'return_team',\n 'return_yards',\n 'penalty_team',\n 'penalty_player_id',\n 'penalty_player_name',\n 'penalty_yards',\n 'replay_or_challenge',\n 'replay_or_challenge_result',\n 'penalty_type',\n 'defensive_two_point_attempt',\n 'defensive_two_point_conv',\n 'defensive_extra_point_attempt',\n 'defensive_extra_point_conv',\n 'full_play_type',\n 'rushing_yards_gained',\n 'passing_yards_gained',\n 'unique_drive',\n 'previous_play_in_drive']"
     },
     "execution_count": 139,
     "metadata": {},
     "output_type": "execute_result"
    }
   ],
   "source": "list(run.data.baltimore_df.columns)"
  },
  {
   "cell_type": "code",
   "execution_count": 140,
   "metadata": {},
   "outputs": [
    {
     "ename": "KeyError",
     "evalue": "\"['drive_incomplete_pass', 'game_third_down_failed', 'drive_sack', 'game_rush_touchdown', 'game_pass_touchdown', 'game_incomplete_pass', 'drive_rush_attempt', 'drive_first_down_penalty', 'drive_first_down_pass', 'drive_passing_yards_gained', 'game_first_down_penalty', 'game_interception', 'game_first_down_rush', 'game_third_down_converted', 'game_rush_attempt', 'drive_yards_gained', 'game_no_huddle', 'game_first_down_pass', 'drive_no_huddle', 'drive_pass_attempt', 'game_fumble', 'game_passing_yards_gained', 'game_rushing_yards_gained', 'drive_first_down_rush', 'game_qb_hit', 'game_sack', 'game_yards_gained', 'drive_interception', 'game_pass_attempt', 'drive_rushing_yards_gained'] not in index\"",
     "output_type": "error",
     "traceback": [
      "\u001b[0;31m--------------------------------------------------------------------------\u001b[0m",
      "\u001b[0;31mKeyError\u001b[0m                                 Traceback (most recent call last)",
      "\u001b[0;32m<ipython-input-140-7429b98f8898>\u001b[0m in \u001b[0;36m<module>\u001b[0;34m()\u001b[0m\n\u001b[1;32m     51\u001b[0m      \u001b[0;34m'game_rush_touchdown'\u001b[0m\u001b[0;34m,\u001b[0m\u001b[0;34m\u001b[0m\u001b[0m\n\u001b[1;32m     52\u001b[0m \u001b[0;31m### GOAL METRIC\u001b[0m\u001b[0;34m\u001b[0m\u001b[0;34m\u001b[0m\u001b[0m\n\u001b[0;32m---> 53\u001b[0;31m     \u001b[0;34m'full_play_type'\u001b[0m\u001b[0;34m\u001b[0m\u001b[0m\n\u001b[0m\u001b[1;32m     54\u001b[0m ]]\n\u001b[1;32m     55\u001b[0m \u001b[0;34m\u001b[0m\u001b[0m\n",
      "\u001b[0;32m/Users/chris-douglas/Library/Python/2.7/lib/python/site-packages/pandas/core/frame.pyc\u001b[0m in \u001b[0;36m__getitem__\u001b[0;34m(self, key)\u001b[0m\n\u001b[1;32m   2932\u001b[0m                 \u001b[0mkey\u001b[0m \u001b[0;34m=\u001b[0m \u001b[0mlist\u001b[0m\u001b[0;34m(\u001b[0m\u001b[0mkey\u001b[0m\u001b[0;34m)\u001b[0m\u001b[0;34m\u001b[0m\u001b[0m\n\u001b[1;32m   2933\u001b[0m             indexer = self.loc._convert_to_indexer(key, axis=1,\n\u001b[0;32m-> 2934\u001b[0;31m                                                    raise_missing=True)\n\u001b[0m\u001b[1;32m   2935\u001b[0m \u001b[0;34m\u001b[0m\u001b[0m\n\u001b[1;32m   2936\u001b[0m         \u001b[0;31m# take() does not accept boolean indexers\u001b[0m\u001b[0;34m\u001b[0m\u001b[0;34m\u001b[0m\u001b[0m\n",
      "\u001b[0;32m/Users/chris-douglas/Library/Python/2.7/lib/python/site-packages/pandas/core/indexing.pyc\u001b[0m in \u001b[0;36m_convert_to_indexer\u001b[0;34m(self, obj, axis, is_setter, raise_missing)\u001b[0m\n\u001b[1;32m   1352\u001b[0m                 kwargs = {'raise_missing': True if is_setter else\n\u001b[1;32m   1353\u001b[0m                           raise_missing}\n\u001b[0;32m-> 1354\u001b[0;31m                 \u001b[0;32mreturn\u001b[0m \u001b[0mself\u001b[0m\u001b[0;34m.\u001b[0m\u001b[0m_get_listlike_indexer\u001b[0m\u001b[0;34m(\u001b[0m\u001b[0mobj\u001b[0m\u001b[0;34m,\u001b[0m \u001b[0maxis\u001b[0m\u001b[0;34m,\u001b[0m \u001b[0;34m**\u001b[0m\u001b[0mkwargs\u001b[0m\u001b[0;34m)\u001b[0m\u001b[0;34m[\u001b[0m\u001b[0;36m1\u001b[0m\u001b[0;34m]\u001b[0m\u001b[0;34m\u001b[0m\u001b[0m\n\u001b[0m\u001b[1;32m   1355\u001b[0m         \u001b[0;32melse\u001b[0m\u001b[0;34m:\u001b[0m\u001b[0;34m\u001b[0m\u001b[0m\n\u001b[1;32m   1356\u001b[0m             \u001b[0;32mtry\u001b[0m\u001b[0;34m:\u001b[0m\u001b[0;34m\u001b[0m\u001b[0m\n",
      "\u001b[0;32m/Users/chris-douglas/Library/Python/2.7/lib/python/site-packages/pandas/core/indexing.pyc\u001b[0m in \u001b[0;36m_get_listlike_indexer\u001b[0;34m(self, key, axis, raise_missing)\u001b[0m\n\u001b[1;32m   1159\u001b[0m         self._validate_read_indexer(keyarr, indexer,\n\u001b[1;32m   1160\u001b[0m                                     \u001b[0mo\u001b[0m\u001b[0;34m.\u001b[0m\u001b[0m_get_axis_number\u001b[0m\u001b[0;34m(\u001b[0m\u001b[0maxis\u001b[0m\u001b[0;34m)\u001b[0m\u001b[0;34m,\u001b[0m\u001b[0;34m\u001b[0m\u001b[0m\n\u001b[0;32m-> 1161\u001b[0;31m                                     raise_missing=raise_missing)\n\u001b[0m\u001b[1;32m   1162\u001b[0m         \u001b[0;32mreturn\u001b[0m \u001b[0mkeyarr\u001b[0m\u001b[0;34m,\u001b[0m \u001b[0mindexer\u001b[0m\u001b[0;34m\u001b[0m\u001b[0m\n\u001b[1;32m   1163\u001b[0m \u001b[0;34m\u001b[0m\u001b[0m\n",
      "\u001b[0;32m/Users/chris-douglas/Library/Python/2.7/lib/python/site-packages/pandas/core/indexing.pyc\u001b[0m in \u001b[0;36m_validate_read_indexer\u001b[0;34m(self, key, indexer, axis, raise_missing)\u001b[0m\n\u001b[1;32m   1250\u001b[0m             \u001b[0;32mif\u001b[0m \u001b[0;32mnot\u001b[0m\u001b[0;34m(\u001b[0m\u001b[0mself\u001b[0m\u001b[0;34m.\u001b[0m\u001b[0mname\u001b[0m \u001b[0;34m==\u001b[0m \u001b[0;34m'loc'\u001b[0m \u001b[0;32mand\u001b[0m \u001b[0;32mnot\u001b[0m \u001b[0mraise_missing\u001b[0m\u001b[0;34m)\u001b[0m\u001b[0;34m:\u001b[0m\u001b[0;34m\u001b[0m\u001b[0m\n\u001b[1;32m   1251\u001b[0m                 \u001b[0mnot_found\u001b[0m \u001b[0;34m=\u001b[0m \u001b[0mlist\u001b[0m\u001b[0;34m(\u001b[0m\u001b[0mset\u001b[0m\u001b[0;34m(\u001b[0m\u001b[0mkey\u001b[0m\u001b[0;34m)\u001b[0m \u001b[0;34m-\u001b[0m \u001b[0mset\u001b[0m\u001b[0;34m(\u001b[0m\u001b[0max\u001b[0m\u001b[0;34m)\u001b[0m\u001b[0;34m)\u001b[0m\u001b[0;34m\u001b[0m\u001b[0m\n\u001b[0;32m-> 1252\u001b[0;31m                 \u001b[0;32mraise\u001b[0m \u001b[0mKeyError\u001b[0m\u001b[0;34m(\u001b[0m\u001b[0;34m\"{} not in index\"\u001b[0m\u001b[0;34m.\u001b[0m\u001b[0mformat\u001b[0m\u001b[0;34m(\u001b[0m\u001b[0mnot_found\u001b[0m\u001b[0;34m)\u001b[0m\u001b[0;34m)\u001b[0m\u001b[0;34m\u001b[0m\u001b[0m\n\u001b[0m\u001b[1;32m   1253\u001b[0m \u001b[0;34m\u001b[0m\u001b[0m\n\u001b[1;32m   1254\u001b[0m             \u001b[0;31m# we skip the warning on Categorical/Interval\u001b[0m\u001b[0;34m\u001b[0m\u001b[0;34m\u001b[0m\u001b[0m\n",
      "\u001b[0;31mKeyError\u001b[0m: \"['drive_incomplete_pass', 'game_third_down_failed', 'drive_sack', 'game_rush_touchdown', 'game_pass_touchdown', 'game_incomplete_pass', 'drive_rush_attempt', 'drive_first_down_penalty', 'drive_first_down_pass', 'drive_passing_yards_gained', 'game_first_down_penalty', 'game_interception', 'game_first_down_rush', 'game_third_down_converted', 'game_rush_attempt', 'drive_yards_gained', 'game_no_huddle', 'game_first_down_pass', 'drive_no_huddle', 'drive_pass_attempt', 'game_fumble', 'game_passing_yards_gained', 'game_rushing_yards_gained', 'drive_first_down_rush', 'game_qb_hit', 'game_sack', 'game_yards_gained', 'drive_interception', 'game_pass_attempt', 'drive_rushing_yards_gained'] not in index\""
     ]
    }
   ],
   "source": "# PASS IN FULL FEATURE SET\nfinal_df = run.data.baltimore_df[[\n## STANDARD METRICS\n#     'game_seconds_remaining',\n    'yardline_100',\n    'down',\n    'ydstogo',\n    'shotgun',\n    'score_differential',\n    'total_home_score',\n    'total_away_score',\n    'quarter_seconds_remaining',\n#     'half_seconds_remaining',\n    'qtr',\n    'goal_to_go',\n    'no_huddle',\n    'posteam_timeouts_remaining',\n    'defteam_timeouts_remaining',\n## CUSTOM METRICS\n     'previous_play_in_drive',\n     'drive_yards_gained',\n     'game_yards_gained',\n     'drive_rushing_yards_gained',\n     'game_rushing_yards_gained',\n     'drive_passing_yards_gained',\n     'game_passing_yards_gained',\n     'drive_sack',\n     'game_sack',\n     'drive_incomplete_pass',\n     'game_incomplete_pass',\n     'drive_no_huddle',\n     'game_no_huddle',\n     'drive_interception',\n     'game_interception',\n     'drive_first_down_rush',\n     'game_first_down_rush',\n     'drive_first_down_pass',\n     'game_first_down_pass',\n     'drive_first_down_penalty',\n     'game_first_down_penalty',\n     'game_third_down_converted',\n     'game_third_down_failed',\n     'game_fumble',\n#      'drive_qb_hit',\n     'game_qb_hit',\n     'drive_rush_attempt',\n     'game_rush_attempt',\n     'drive_pass_attempt',\n     'game_pass_attempt',\n     'game_pass_touchdown',\n     'game_rush_touchdown',\n### GOAL METRIC\n    'full_play_type'\n]]\n\n\nfinal_df= pandas.get_dummies(data=final_df, columns=['previous_play_in_drive'])\nX = final_df.loc[:, final_df.columns != 'full_play_type']\nY = final_df.full_play_type\n\n# Encode string class Values\nlabel_encoder = LabelEncoder()\nlabel_encoder = label_encoder.fit(Y)\nlabel_encoded_y = label_encoder.transform(Y)\nseed = 13\ntest_size = 0.2\n\n# Randomizing\nX_train, X_test, y_train, y_test = \\\n    model_selection.train_test_split(X, label_encoded_y, test_size=test_size, random_state=seed)\n\n# Fit GBC model\nGBC_model = xgboost.XGBClassifier(learning_rate=0.01,n_estimators=400)\nGBC_model.fit(X_train, y_train)\n\n# Make predictions\nGBC_y_pred = GBC_model.predict(X_test)\nGBC_predictions = [round(value) for value in GBC_y_pred]\n# Evaluate Predictions\nGBC_accuracy = accuracy_score(y_test, GBC_predictions)\n\nCLF_model = MLPClassifier(hidden_layer_sizes=(100,100,100), max_iter=500, alpha=0.0001,\n                     solver='sgd', verbose=10,  random_state=21,tol=0.000000001)\nCLF_model.fit(X_train, y_train)\nCLF_model_y_pred = CLF_model.predict(X_test)\nCLF_model_accuracy_score = accuracy_score(y_test, CLF_model_y_pred)\nCLF_model_cm = confusion_matrix(y_test, CLF_model_y_pred)"
  },
  {
   "cell_type": "code",
   "execution_count": 134,
   "metadata": {},
   "outputs": [
    {
     "name": "stdout",
     "output_type": "stream",
     "text": "GBC Accuracy: 23.26%\nCLF Accuracy: 15.81%\n              precision    recall  f1-score   support\n\n         0.0       0.00      0.00      0.00         0\n         1.0       0.50      0.08      0.13        13\n         2.0       0.00      0.00      0.00         0\n         3.0       0.38      0.74      0.51        27\n         5.0       0.10      0.18      0.13        11\n         6.0       0.26      0.19      0.22        27\n         7.0       0.36      0.21      0.26        24\n         8.0       0.61      0.56      0.58       113\n\n   micro avg       0.45      0.45      0.45       215\n   macro avg       0.28      0.24      0.23       215\nweighted avg       0.47      0.45      0.44       215\n\n"
    }
   ],
   "source": "print(\"GBC Accuracy: %.2f%%\" % (GBC_accuracy * 100.0))\nprint(\"CLF Accuracy: %.2f%%\" % (CLF_model_accuracy_score * 100.0))\nprint(classification_report(CLF_model_y_pred,predictions))"
  },
  {
   "cell_type": "code",
   "execution_count": null,
   "metadata": {},
   "outputs": [],
   "source": ""
  }
 ],
 "metadata": {
  "kernelspec": {
   "display_name": "Python 2",
   "language": "python",
   "name": "python2"
  },
  "language_info": {
   "codemirror_mode": {
    "name": "ipython",
    "version": 2
   },
   "file_extension": ".py",
   "mimetype": "text/x-python",
   "name": "python",
   "nbconvert_exporter": "python",
   "pygments_lexer": "ipython2",
   "version": "2.7.16"
  }
 },
 "nbformat": 4,
 "nbformat_minor": 2
}
